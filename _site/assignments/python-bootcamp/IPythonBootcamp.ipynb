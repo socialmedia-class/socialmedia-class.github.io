{
 "cells": [
  {
   "cell_type": "markdown",
   "metadata": {},
   "source": [
    "## IPython Bootcamp\n",
    "\n",
    "We will start writing some code! This bootcamp is designed to be a crash-course to get you up to speed on Python programming. The goal of this bootcamp is to write your own script 'bootcamp.py'. Running your script should print the answers to each of the questions in part 4 of the tutorial, separated by a single blank line. \n",
    "\n",
    "If you have any difficulty navigating the IPython interface, there's some documentation [here][IPython documentation link] that provides a great platform to get started. \n",
    "\n",
    "[IPython documentation link]: https://ipython.org/ipython-doc/3/notebook/notebook.html"
   ]
  },
  {
   "cell_type": "markdown",
   "metadata": {},
   "source": [
    "### 1. The basics: variables and data structures\n",
    "\n",
    "Python has the basic variable types you are used to: strings, ints, floats. Unlike Java and many other languages, variables are not type-checked. You simply declare a variable by assigning a value to it. Later, you can reassign a different type to that same variable and Python couldn’t care less.\n",
    "\n",
    "Use the cells below to play with variable assignment and reassignment:"
   ]
  },
  {
   "cell_type": "code",
   "execution_count": 1,
   "metadata": {
    "collapsed": false
   },
   "outputs": [],
   "source": [
    "# You can comment with pound sign. \n",
    "\n",
    "# Running this cell won't produce any output, because it's all comments. \n",
    "# Go ahead and try it by selecting the Cell -> Run dropdown in the above toolbar. "
   ]
  },
  {
   "cell_type": "markdown",
   "metadata": {},
   "source": [
    "For ease of use, you can comment out multiple lines by selecting all you wish to comment and pressing <kbd>Control</kbd> + <kbd>/</kbd>. "
   ]
  },
  {
   "cell_type": "code",
   "execution_count": 2,
   "metadata": {
    "collapsed": false
   },
   "outputs": [
    {
     "name": "stdout",
     "output_type": "stream",
     "text": [
      "3.4.0 (v3.4.0:04f714765c13, Mar 15 2014, 23:02:41) \n",
      "[GCC 4.2.1 (Apple Inc. build 5666) (dot 3)]\n"
     ]
    }
   ],
   "source": [
    "# run me! You will see which version of Python you are using\n",
    "import sys\n",
    "print(sys.version)"
   ]
  },
  {
   "cell_type": "code",
   "execution_count": 3,
   "metadata": {
    "collapsed": false
   },
   "outputs": [
    {
     "data": {
      "text/plain": [
       "2"
      ]
     },
     "execution_count": 3,
     "metadata": {},
     "output_type": "execute_result"
    }
   ],
   "source": [
    "# run me! You're expecting a 2 to print out. \n",
    "x = 2\n",
    "x"
   ]
  },
  {
   "cell_type": "code",
   "execution_count": 4,
   "metadata": {
    "collapsed": false
   },
   "outputs": [
    {
     "data": {
      "text/plain": [
       "'hello world'"
      ]
     },
     "execution_count": 4,
     "metadata": {},
     "output_type": "execute_result"
    }
   ],
   "source": [
    "y = \"hello world\"\n",
    "y"
   ]
  },
  {
   "cell_type": "code",
   "execution_count": 5,
   "metadata": {
    "collapsed": false
   },
   "outputs": [
    {
     "data": {
      "text/plain": [
       "'hello world'"
      ]
     },
     "execution_count": 5,
     "metadata": {},
     "output_type": "execute_result"
    }
   ],
   "source": [
    "# run me! I remember the results of cells above me that have already run, which is pretty handy. \n",
    "# The variables above me are still assigned. \n",
    "x = y #notice the lack of whining about \"incompatible types\"...\n",
    "x"
   ]
  },
  {
   "cell_type": "markdown",
   "metadata": {},
   "source": [
    "This also means that you can mix variable types within a data structure. There is no need to specify that L is a list of ints or that M is a map from strings to floats.\n",
    "\n",
    "Lists are declared with square brackets and indexed using square bracket notation. They can also be treated as stacks, if you are into that sort of thing.\n",
    "\n",
    "Create a list of ints. Then, in order to drive those Scala people insane, start appending strings to it. Play with indexing and slicing. In Python, you can use the colon notation to pull out slices of a list. E.g. lst[i:j] will give you a new list which includes the ith through the (j-1)th elements of lst."
   ]
  },
  {
   "cell_type": "code",
   "execution_count": 6,
   "metadata": {
    "collapsed": false,
    "scrolled": true
   },
   "outputs": [
    {
     "name": "stdout",
     "output_type": "stream",
     "text": [
      "1\n",
      "2\n",
      "3\n"
     ]
    }
   ],
   "source": [
    "l = [1, 2, 3]\n",
    "for elem in l: #We'll talk about loops more in a bit\n",
    "    print (elem)"
   ]
  },
  {
   "cell_type": "code",
   "execution_count": 7,
   "metadata": {
    "collapsed": false
   },
   "outputs": [
    {
     "name": "stdout",
     "output_type": "stream",
     "text": [
      "1\n",
      "2\n",
      "3\n",
      "i am a string. mwahahaha.\n"
     ]
    }
   ],
   "source": [
    "l.append(\"i am a string. mwahahaha.\") \n",
    "for elem in l: \n",
    "    print (elem)"
   ]
  },
  {
   "cell_type": "code",
   "execution_count": 8,
   "metadata": {
    "collapsed": false
   },
   "outputs": [
    {
     "name": "stdout",
     "output_type": "stream",
     "text": [
      "3\n",
      "[2, 3]\n",
      "[1, 2, 3, 'i am a string. mwahahaha.', 'here is more stuff', 6, [2, 3, 4], 6835]\n",
      "6835\n"
     ]
    }
   ],
   "source": [
    "print (l[2]) #should be 3\n",
    "print (l[1:3]) #should be [2, 3]\n",
    "l += ['here is more stuff', 6, [2,3,4], 5*1367] \n",
    "print (l)\n",
    "#expecting [1, 2, 3, 'i am a string. mwahahaha.', 'here is more stuff', 6, [2, 3, 4], 6835]\n",
    "print (l.pop()) #should be 6835. Run me to check! "
   ]
  },
  {
   "cell_type": "markdown",
   "metadata": {},
   "source": [
    "Dictionaries (or maps or associative arrays) are probably the favorite data structure of Python. They are a simple key/value store, again without any restrictions on which data types are the keys or values. You can declare dictionaries with curly braces and associate or retrieve keys and values using square bracket notation."
   ]
  },
  {
   "cell_type": "code",
   "execution_count": 9,
   "metadata": {
    "collapsed": false
   },
   "outputs": [
    {
     "name": "stdout",
     "output_type": "stream",
     "text": [
      "7\n",
      "{'give me a P!': 7, 'give me a Q!': 'no.', 14: 12, 'give me an A!': 'B'}\n"
     ]
    }
   ],
   "source": [
    "d = {\"give me an A!\" : \"B\", \"give me a P!\" : 7, \"give me a Q!\" : \"no.\"}\n",
    "print (d[\"give me a P!\"])\n",
    "# 7\n",
    "d[14] = 12\n",
    "print (d)\n",
    "#{'give me a Q!': 'no.', 'give me an A!': 'B', 14: 12, 'give me a P!': 7} # the new k/v pair was added to d"
   ]
  },
  {
   "cell_type": "markdown",
   "metadata": {},
   "source": [
    "### 2. Control structures and functions\n",
    "Python makes it easy to write bad code. But it makes it very hard to write ugly code. So chalk one up for superficiality. Python uses whitespace to denote control structures, like loops and if/else blocks. By convention, you should use four spaces for each level of indentation. "
   ]
  },
  {
   "cell_type": "code",
   "execution_count": 10,
   "metadata": {
    "collapsed": false
   },
   "outputs": [
    {
     "name": "stdout",
     "output_type": "stream",
     "text": [
      "[1, 2, 3, 'i am a string. mwahahaha.', 'here is more stuff', 6, [2, 3, 4]]\n",
      "1\n",
      "2\n",
      "3\n",
      "i am a string. mwahahaha.\n",
      "here is more stuff\n",
      "6\n",
      "[2, 3, 4]\n",
      "even\n",
      "odd\n",
      "even\n",
      "odd\n",
      "even\n",
      "1\n"
     ]
    },
    {
     "data": {
      "text/plain": [
       "6"
      ]
     },
     "execution_count": 10,
     "metadata": {},
     "output_type": "execute_result"
    }
   ],
   "source": [
    "print (l)\n",
    "[1, 2, 3, 'here is more stuff', 6, [2, 3, 4]]\n",
    "# Here is a for loop. \n",
    "for elem in l:\n",
    "  print (elem)\n",
    "\n",
    "# Here is a while loop\n",
    "i = 0\n",
    "while i < 5 : \n",
    "    if i % 2 == 0 : \n",
    "        print (\"even\")\n",
    "    else : \n",
    "        print (\"odd\")\n",
    "    i += 1\n",
    "\n",
    "# Let's write our very own function!\n",
    "# No types are required for parameters, so commenting is SO important. So important.\n",
    "# Returns the idx element of a list\n",
    "\n",
    "# lst - the list \n",
    "# idx - the integer index of the element to return\n",
    "\n",
    "def get_list_element(lst, idx) : \n",
    "    return lst[idx]\n",
    "\n",
    "print (get_list_element(l, 0))\n",
    "get_list_element(l, 5) #expecting a 6"
   ]
  },
  {
   "cell_type": "markdown",
   "metadata": {},
   "source": [
    "### 3. File IO\n",
    "You can open, read, and write files using the aptly-named open(), read(), and write() commands. read() returns the entire contents of the file as a string. readlines() will split on the newline character and return the lines as a list, which is generally nicer for allowing you to iterate line-by-line. We won’t go through an example here, but we highly recommend playing with the csv module, which is incredibly useful and we will likely use regularly throughout the semester."
   ]
  },
  {
   "cell_type": "code",
   "execution_count": 11,
   "metadata": {
    "collapsed": false
   },
   "outputs": [
    {
     "name": "stdout",
     "output_type": "stream",
     "text": [
      "line1\n",
      "line2\n",
      "line3\n",
      "line4\n",
      "\n"
     ]
    },
    {
     "data": {
      "text/plain": [
       "['line1\\n', 'line2\\n', 'line3\\n', 'line4\\n']"
      ]
     },
     "execution_count": 11,
     "metadata": {},
     "output_type": "execute_result"
    }
   ],
   "source": [
    "file = open('test.txt', 'w')\n",
    "for s in ['line1', 'line2', 'line3', 'line4'] : \n",
    "    file.write(s+'\\n')\n",
    "file.close()\n",
    "contents = open('test.txt').read()\n",
    "print (contents)\n",
    "#'line1\\nline2\\nline3\\nline4\\n'\n",
    "contents = open('test.txt').readlines()\n",
    "contents\n",
    "#['line1\\n', 'line2\\n', 'line3\\n', 'line4\\n']"
   ]
  },
  {
   "cell_type": "markdown",
   "metadata": {},
   "source": [
    "### 4. Text processing in Python\n",
    "For this part, you will need to submit your code to answer the following questions.\n",
    "\n",
    "We will be playing with a small but oh so wonderful data set of wine reviews!\n",
    "\n",
    "The cell below will download and unpack the files. You can modify them in subsequent cells by referring to their path names, data/stopwords.txt and data/wine.txt. "
   ]
  },
  {
   "cell_type": "code",
   "execution_count": 29,
   "metadata": {
    "collapsed": false
   },
   "outputs": [],
   "source": [
    "import urllib.request\n",
    "import shutil\n",
    "import zipfile\n",
    "import os\n",
    "\n",
    "url = 'http://socialmedia-class.org/assignments/python-bootcamp/data.zip'\n",
    "file_name = 'data.tgz'\n",
    "# Download the file from `url` and save it locally under `file_name`:\n",
    "with urllib.request.urlopen(url) as response, open(file_name, 'wb') as out_file:\n",
    "    shutil.copyfileobj(response, out_file)\n",
    "\n",
    "# After running the following commend, you should see a new directory './data/' on your hard drive \n",
    "z = zipfile.ZipFile('data.zip', 'r')\n",
    "z.extractall()"
   ]
  },
  {
   "cell_type": "markdown",
   "metadata": {},
   "source": [
    "wine.txt is in the format of one review per line, followed but a star rating between 1 and 5 (except for 3 reviews, where the review decided to go rogue and give 6 stars. Pft.) The text of the review and the star rating are separated by a single tab character. There is also a file called stopwords.txt. You will use this in question 6.\n",
    "\n",
    "Write a python script that answers each of the following questions and prints the answer to standard output. Since this is a tutorial, there are no secrets: your script should produce [this output][target output] when you are done. We will compare the output of your script directly to this answer key, so start early and come ask for help if you get stuck! We highly recommend looking into the functions available in the [python string module][string module].\n",
    "\n",
    "1. What is the distribution over star ratings?\n",
    "2. What are the 10 most common words used across all of the reviews, and how many times is each used?\n",
    "3. How many times does the word ‘a’ appear?\n",
    "4. How many times does the word ‘fruit’ appear?\n",
    "5. How many times does the word ‘mineral’ appear?\n",
    "6. Common words (like ‘a’) are not as interesting as uncommon words (like ‘mineral’). In natural language processing, we call these common words “stop words” and often remove them before we process text. stopwords.txt gives you a list of some very common words. Remove these stopwords from your reviews. Also, try converting all the words to lower case (since we probably don’t want to count ‘fruit’ and ‘Fruit’ as two different words). Now what are the 10 most common words across all of the reviews, and how many times is each used?\n",
    "7. You should continue to use the preprocessed reviews for the following questions (lower-cased, no stopwords). What are the 10 most used words among the 5 star reviews, and how many times is each used?\n",
    "8. What are the 10 most used words among the 1 star reviews, and how many times is each used?\n",
    "9. Gather two sets of reviews: 1) Those that use the word “red” and 2) those that use the word “white”. What are the 10 most frequent words in the “red” reviews which do NOT appear in the “white” reviews?\n",
    "10. What are the 10 most frequent words in the “white” reviews which do NOT appear in the “red” reviews?\n",
    "\n",
    "[string module]: https://docs.python.org/2/library/string.html\n"
   ]
  },
  {
   "cell_type": "code",
   "execution_count": 30,
   "metadata": {
    "collapsed": false
   },
   "outputs": [
    {
     "name": "stdout",
     "output_type": "stream",
     "text": [
      "i\n",
      "me\n",
      "my\n",
      "myself\n",
      "we\n",
      "our\n",
      "ours\n",
      "ourselves\n",
      "you\n",
      "your\n",
      "yours\n",
      "yourself\n",
      "yourselves\n",
      "he\n",
      "him\n",
      "his\n",
      "himself\n",
      "she\n",
      "her\n",
      "hers\n",
      "herself\n",
      "it\n",
      "its\n",
      "itself\n",
      "they\n",
      "them\n",
      "their\n",
      "theirs\n",
      "themselves\n",
      "what\n",
      "which\n",
      "who\n",
      "whom\n",
      "this\n",
      "that\n",
      "these\n",
      "those\n",
      "am\n",
      "is\n",
      "are\n",
      "was\n",
      "were\n",
      "be\n",
      "been\n",
      "being\n",
      "have\n",
      "has\n",
      "had\n",
      "having\n",
      "do\n",
      "does\n",
      "did\n",
      "doing\n",
      "a\n",
      "an\n",
      "the\n",
      "and\n",
      "but\n",
      "if\n",
      "or\n",
      "because\n",
      "as\n",
      "until\n",
      "while\n",
      "of\n",
      "at\n",
      "by\n",
      "for\n",
      "with\n",
      "about\n",
      "against\n",
      "between\n",
      "into\n",
      "through\n",
      "during\n",
      "before\n",
      "after\n",
      "above\n",
      "below\n",
      "to\n",
      "from\n",
      "up\n",
      "down\n",
      "in\n",
      "out\n",
      "on\n",
      "off\n",
      "over\n",
      "under\n",
      "again\n",
      "further\n",
      "then\n",
      "once\n",
      "here\n",
      "there\n",
      "when\n",
      "where\n",
      "why\n",
      "how\n",
      "all\n",
      "any\n",
      "both\n",
      "each\n",
      "few\n",
      "more\n",
      "most\n",
      "other\n",
      "some\n",
      "such\n",
      "no\n",
      "nor\n",
      "not\n",
      "only\n",
      "own\n",
      "same\n",
      "so\n",
      "than\n",
      "too\n",
      "very\n",
      "'s\n",
      "'t\n",
      "can\n",
      "will\n",
      "just\n",
      "don\n",
      "should\n",
      "now\n",
      "\n"
     ]
    }
   ],
   "source": [
    "#You can experiment with the below bodies of text and write Python code below. Running the cell will run your code. \n",
    "wine = open('data/wine.txt').read()\n",
    "stopwords = open('data/stopwords.txt').read()\n",
    "\n",
    "#print (wine)\n",
    "print (stopwords)\n",
    "\n",
    "# Write here! "
   ]
  },
  {
   "cell_type": "markdown",
   "metadata": {},
   "source": [
    "Thats it! Again, you can compare your answers against [our key][target output] to see if you have done things correctly.\n",
    "\n",
    "Your code is due Friday, January 22nd, before class. Please submit it via [turnin][turnin instructions] from the eniac machines. You can do so even from home by [copying the file][scp syntax] onto an eniac machine, then [sshing into an eniac machine][ssh instructions] and running turnin from there. \n",
    "\n",
    "[target output]: http://crowdsourcing-class.org/assignments/downloads/python-bootcamp/bootcamp-key.txt\n",
    "[turnin instructions]: https://alliance.seas.upenn.edu/~cis520/wiki/index.php?n=Resources.HomeworkSubmission\n",
    "[scp syntax]: http://www.hypexr.org/linux_scp_help.php\n",
    "[ssh instructions]: http://www.seas.upenn.edu/cets/answers/remote.html\n"
   ]
  },
  {
   "cell_type": "code",
   "execution_count": null,
   "metadata": {
    "collapsed": true
   },
   "outputs": [],
   "source": []
  }
 ],
 "metadata": {
  "kernelspec": {
   "display_name": "Python 3",
   "language": "python",
   "name": "python3"
  },
  "language_info": {
   "codemirror_mode": {
    "name": "ipython",
    "version": 3
   },
   "file_extension": ".py",
   "mimetype": "text/x-python",
   "name": "python",
   "nbconvert_exporter": "python",
   "pygments_lexer": "ipython3",
   "version": "3.4.0"
  }
 },
 "nbformat": 4,
 "nbformat_minor": 0
}
